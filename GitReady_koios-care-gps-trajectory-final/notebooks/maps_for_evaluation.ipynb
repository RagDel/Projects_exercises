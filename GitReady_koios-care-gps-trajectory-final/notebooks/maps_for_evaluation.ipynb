{
 "cells": [
  {
   "cell_type": "markdown",
   "id": "a91e02c9-aba2-4069-a86a-8657b0782691",
   "metadata": {},
   "source": [
    "## Importing the DataFrames"
   ]
  },
  {
   "cell_type": "code",
   "execution_count": 3,
   "id": "de526bf3-ed01-466b-8ea1-2e4803db7b31",
   "metadata": {},
   "outputs": [],
   "source": [
    "import pickle\n",
    "import pandas as pd"
   ]
  },
  {
   "cell_type": "code",
   "execution_count": 4,
   "id": "b4981f76-79b2-4cdb-9655-4c7990350d9c",
   "metadata": {},
   "outputs": [],
   "source": [
    "all_data = pd.read_pickle(\"../data/processed/all_data.pkl\")\n",
    "sp_map = pd.read_pickle(\"../data/processed/sp_map.pkl\")\n",
    "with open(\"../data/processed/week_dfs.pkl\", \"rb\") as f:\n",
    "   week_dfs = pickle.load(f)\n",
    "with open(\"../data/processed/week_sp_dfs.pkl\", \"rb\") as f:\n",
    "   week_sp_dfs = pickle.load(f)"
   ]
  },
  {
   "cell_type": "markdown",
   "id": "1da3f058-30e6-49c3-b07f-33f75fe2c64b",
   "metadata": {},
   "source": [
    "## Creating Maps"
   ]
  },
  {
   "cell_type": "code",
   "execution_count": null,
   "id": "14b81cce-726d-48c4-9773-4a6c287dab1a",
   "metadata": {},
   "outputs": [],
   "source": [
    "from datetime import datetime\n",
    "\n",
    "def get_color_relative_to_week(time, start, end):\n",
    "    # Normalize the time to a value between 0 and 1\n",
    "    relative_position = (time - start) / (end - start)\n",
    "\n",
    "    # Convert to a color (you can adjust the logic to change color mapping)\n",
    "    hue = int(255 * relative_position)  # Map to a color spectrum\n",
    "    color = f'hsl({hue}, 100%, 50%)'  # Using HSL color model\n",
    "    return color"
   ]
  },
  {
   "cell_type": "code",
   "execution_count": 6,
   "id": "cdca66ab-789d-43ad-8f0d-aeba19ee0522",
   "metadata": {},
   "outputs": [],
   "source": [
    "import folium\n",
    "\n",
    "def creating_maps(df, started_tracked, sp=''):\n",
    "    week = df['week_number'].iloc[0]\n",
    "    \n",
    "    # Assuming df is your DataFrame and 'tracked_at' is converted to datetime\n",
    "    start_week = df[started_tracked].min()\n",
    "    end_week = df[started_tracked].max()\n",
    "    \n",
    "    # Calculate the average latitude and longitude for the initial map center\n",
    "    avg_latitude = df['latitude'].mean()\n",
    "    avg_longitude = df['longitude'].mean()\n",
    "    \n",
    "    # Create a Folium map centered around the average coordinates\n",
    "    map_folium = folium.Map(location=[avg_latitude, avg_longitude], zoom_start=12)\n",
    "    \n",
    "    for _, row in df.iterrows():\n",
    "        time = row[started_tracked].to_pydatetime()\n",
    "        color = get_color_relative_to_week(time, start_week, end_week)\n",
    "    \n",
    "        folium.CircleMarker(\n",
    "            location=[row['latitude'], row['longitude']],\n",
    "            radius=3,\n",
    "            color=color,\n",
    "            fill=True,\n",
    "            fill_color=color,\n",
    "            popup=row[started_tracked]\n",
    "        ).add_to(map_folium)\n",
    "    \n",
    "    map_file_path = '../maps/maps_per_week'+sp+'/map'+sp+''+ str(week) +'th_week_of_the_year.html'\n",
    "    map_folium.save(map_file_path)\n",
    "    return None"
   ]
  },
  {
   "cell_type": "code",
   "execution_count": null,
   "id": "d568d85f-ad0f-4496-8aef-73cd6125db7d",
   "metadata": {},
   "outputs": [],
   "source": [
    "import warnings\n",
    "from tqdm import tqdm\n",
    "warnings.filterwarnings('ignore', message='Discarding nonzero nanoseconds in conversion')\n",
    "\n",
    "for i in tqdm(range(len(week_dfs))):  \n",
    "    creating_map(week_dfs[i],'tracked_at')"
   ]
  },
  {
   "cell_type": "code",
   "execution_count": null,
   "id": "2fd512dd-51c4-4ba7-b3fc-fd695d5e62c0",
   "metadata": {},
   "outputs": [],
   "source": [
    "warnings.filterwarnings('ignore', message='Discarding nonzero nanoseconds in conversion')\n",
    "for i in tqdm(range(len(week_sp_dfs))):  \n",
    "    creating_map(week_sp_dfs[i],'started_at',sp='_SP')"
   ]
  },
  {
   "cell_type": "code",
   "execution_count": null,
   "id": "0b4d3526-1262-42b2-9c33-68052f950b47",
   "metadata": {},
   "outputs": [],
   "source": [
    "# Calculate the average latitude and longitude for the initial map center\n",
    "avg_latitude = all_data['latitude'].mean()\n",
    "avg_longitude = all_data['longitude'].mean()\n",
    "\n",
    "# Create a Folium map centered around the average coordinates\n",
    "map_folium = folium.Map(location=[avg_latitude, avg_longitude], zoom_start=11)\n",
    "\n",
    "# Adding the data points to the map\n",
    "for _, row in all_data.iterrows():\n",
    "    folium.CircleMarker(\n",
    "        location=[row['latitude'], row['longitude']],\n",
    "        radius=3,\n",
    "        color='red',\n",
    "        fill=True,\n",
    "        fill_color='red'\n",
    "    ).add_to(map_folium)\n",
    "\n",
    "# Saving the map to an HTML file\n",
    "map_file_path = '../maps/maps_folium_all_data/ALL_POINTS.html'\n",
    "map_folium.save(map_file_path)"
   ]
  },
  {
   "cell_type": "code",
   "execution_count": null,
   "id": "29f39dd8-7bbd-445b-b4ca-0742d292b0e6",
   "metadata": {},
   "outputs": [],
   "source": [
    "# Calculate the average latitude and longitude for the initial map center\n",
    "avg_latitude = sp_map['latitude'].mean()\n",
    "avg_longitude = sp_map['longitude'].mean()\n",
    "\n",
    "# Create a Folium map centered around the average coordinates\n",
    "map_folium = folium.Map(location=[avg_latitude, avg_longitude], zoom_start=12)\n",
    "\n",
    "# Adding the data points to the map\n",
    "for _, row in sp_map.iterrows():\n",
    "    folium.CircleMarker(\n",
    "        location=[row['latitude'], row['longitude']],\n",
    "        radius=3,\n",
    "        color='red',\n",
    "        fill=True,\n",
    "        fill_color='red'\n",
    "    ).add_to(map_folium)\n",
    "\n",
    "# Saving the map to an HTML file\n",
    "map_file_path = '../maps/maps_folium_all_data/SP_points.html'\n",
    "map_folium.save(map_file_path)"
   ]
  },
  {
   "cell_type": "code",
   "execution_count": null,
   "id": "868f5358-7191-4457-bf79-76d309da8eb2",
   "metadata": {},
   "outputs": [],
   "source": []
  }
 ],
 "metadata": {
  "kernelspec": {
   "display_name": "Python 3 (ipykernel)",
   "language": "python",
   "name": "python3"
  },
  "language_info": {
   "codemirror_mode": {
    "name": "ipython",
    "version": 3
   },
   "file_extension": ".py",
   "mimetype": "text/x-python",
   "name": "python",
   "nbconvert_exporter": "python",
   "pygments_lexer": "ipython3",
   "version": "3.9.18"
  }
 },
 "nbformat": 4,
 "nbformat_minor": 5
}
