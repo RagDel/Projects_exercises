{
 "cells": [
  {
   "cell_type": "code",
   "execution_count": 1,
   "id": "a217b54a",
   "metadata": {
    "ExecuteTime": {
     "end_time": "2023-12-05T13:57:22.129755Z",
     "start_time": "2023-12-05T13:57:21.112352Z"
    }
   },
   "outputs": [
    {
     "data": {
      "text/html": [
       "<style>.container {width:100% !important; }<style>"
      ],
      "text/plain": [
       "<IPython.core.display.HTML object>"
      ]
     },
     "metadata": {},
     "output_type": "display_data"
    }
   ],
   "source": [
    "import pandas as pd\n",
    "\n",
    "# IMPORTS\n",
    "\n",
    "pd.set_option('display.max_columns', None)\n",
    "%matplotlib inline\n",
    "pd.set_option('display.float_format', '{:.5f}'.format)\n",
    "from IPython.display import display, HTML\n",
    "display(HTML(\"<style>.container {width:100% !important; }<style>\"))\n",
    "\n",
    "import warnings\n",
    "warnings.filterwarnings('ignore')"
   ]
  },
  {
   "cell_type": "markdown",
   "id": "7034e5e4",
   "metadata": {},
   "source": [
    "# Preprocessing"
   ]
  },
  {
   "cell_type": "markdown",
   "id": "b0a07454",
   "metadata": {},
   "source": [
    "## LOAD & basic exploration\n"
   ]
  },
  {
   "cell_type": "code",
   "execution_count": 4,
   "id": "e2a6570a",
   "metadata": {
    "ExecuteTime": {
     "end_time": "2023-12-05T13:38:36.691519Z",
     "start_time": "2023-12-05T13:38:36.576729Z"
    },
    "scrolled": true
   },
   "outputs": [
    {
     "data": {
      "text/html": [
       "<div>\n",
       "<style scoped>\n",
       "    .dataframe tbody tr th:only-of-type {\n",
       "        vertical-align: middle;\n",
       "    }\n",
       "\n",
       "    .dataframe tbody tr th {\n",
       "        vertical-align: top;\n",
       "    }\n",
       "\n",
       "    .dataframe thead th {\n",
       "        text-align: right;\n",
       "    }\n",
       "</style>\n",
       "<table border=\"1\" class=\"dataframe\">\n",
       "  <thead>\n",
       "    <tr style=\"text-align: right;\">\n",
       "      <th></th>\n",
       "      <th>Country</th>\n",
       "      <th>City</th>\n",
       "      <th>AQI Value</th>\n",
       "      <th>AQI Category</th>\n",
       "      <th>CO AQI Value</th>\n",
       "      <th>CO AQI Category</th>\n",
       "      <th>Ozone AQI Value</th>\n",
       "      <th>Ozone AQI Category</th>\n",
       "      <th>NO2 AQI Value</th>\n",
       "      <th>NO2 AQI Category</th>\n",
       "      <th>PM2.5 AQI Value</th>\n",
       "      <th>PM2.5 AQI Category</th>\n",
       "    </tr>\n",
       "  </thead>\n",
       "  <tbody>\n",
       "    <tr>\n",
       "      <th>0</th>\n",
       "      <td>Russian Federation</td>\n",
       "      <td>Praskoveya</td>\n",
       "      <td>51</td>\n",
       "      <td>Moderate</td>\n",
       "      <td>1</td>\n",
       "      <td>Good</td>\n",
       "      <td>36</td>\n",
       "      <td>Good</td>\n",
       "      <td>0</td>\n",
       "      <td>Good</td>\n",
       "      <td>51</td>\n",
       "      <td>Moderate</td>\n",
       "    </tr>\n",
       "    <tr>\n",
       "      <th>1</th>\n",
       "      <td>Brazil</td>\n",
       "      <td>Presidente Dutra</td>\n",
       "      <td>41</td>\n",
       "      <td>Good</td>\n",
       "      <td>1</td>\n",
       "      <td>Good</td>\n",
       "      <td>5</td>\n",
       "      <td>Good</td>\n",
       "      <td>1</td>\n",
       "      <td>Good</td>\n",
       "      <td>41</td>\n",
       "      <td>Good</td>\n",
       "    </tr>\n",
       "    <tr>\n",
       "      <th>2</th>\n",
       "      <td>Italy</td>\n",
       "      <td>Priolo Gargallo</td>\n",
       "      <td>66</td>\n",
       "      <td>Moderate</td>\n",
       "      <td>1</td>\n",
       "      <td>Good</td>\n",
       "      <td>39</td>\n",
       "      <td>Good</td>\n",
       "      <td>2</td>\n",
       "      <td>Good</td>\n",
       "      <td>66</td>\n",
       "      <td>Moderate</td>\n",
       "    </tr>\n",
       "    <tr>\n",
       "      <th>3</th>\n",
       "      <td>Poland</td>\n",
       "      <td>Przasnysz</td>\n",
       "      <td>34</td>\n",
       "      <td>Good</td>\n",
       "      <td>1</td>\n",
       "      <td>Good</td>\n",
       "      <td>34</td>\n",
       "      <td>Good</td>\n",
       "      <td>0</td>\n",
       "      <td>Good</td>\n",
       "      <td>20</td>\n",
       "      <td>Good</td>\n",
       "    </tr>\n",
       "    <tr>\n",
       "      <th>4</th>\n",
       "      <td>France</td>\n",
       "      <td>Punaauia</td>\n",
       "      <td>22</td>\n",
       "      <td>Good</td>\n",
       "      <td>0</td>\n",
       "      <td>Good</td>\n",
       "      <td>22</td>\n",
       "      <td>Good</td>\n",
       "      <td>0</td>\n",
       "      <td>Good</td>\n",
       "      <td>6</td>\n",
       "      <td>Good</td>\n",
       "    </tr>\n",
       "  </tbody>\n",
       "</table>\n",
       "</div>"
      ],
      "text/plain": [
       "              Country              City  AQI Value AQI Category  CO AQI Value  \\\n",
       "0  Russian Federation        Praskoveya         51     Moderate             1   \n",
       "1              Brazil  Presidente Dutra         41         Good             1   \n",
       "2               Italy   Priolo Gargallo         66     Moderate             1   \n",
       "3              Poland         Przasnysz         34         Good             1   \n",
       "4              France          Punaauia         22         Good             0   \n",
       "\n",
       "  CO AQI Category  Ozone AQI Value Ozone AQI Category  NO2 AQI Value  \\\n",
       "0            Good               36               Good              0   \n",
       "1            Good                5               Good              1   \n",
       "2            Good               39               Good              2   \n",
       "3            Good               34               Good              0   \n",
       "4            Good               22               Good              0   \n",
       "\n",
       "  NO2 AQI Category  PM2.5 AQI Value PM2.5 AQI Category  \n",
       "0             Good               51           Moderate  \n",
       "1             Good               41               Good  \n",
       "2             Good               66           Moderate  \n",
       "3             Good               20               Good  \n",
       "4             Good                6               Good  "
      ]
     },
     "execution_count": 4,
     "metadata": {},
     "output_type": "execute_result"
    }
   ],
   "source": [
    "df = pd.read_csv(f\"../data/external/global_air_pollution_dataset.csv\")\n",
    "df.head()"
   ]
  },
  {
   "cell_type": "code",
   "execution_count": 5,
   "id": "acc40e33",
   "metadata": {
    "ExecuteTime": {
     "end_time": "2023-12-05T13:38:40.229299Z",
     "start_time": "2023-12-05T13:38:40.210311Z"
    }
   },
   "outputs": [
    {
     "data": {
      "text/plain": [
       "(23463, 12)"
      ]
     },
     "execution_count": 5,
     "metadata": {},
     "output_type": "execute_result"
    }
   ],
   "source": [
    "df.shape"
   ]
  },
  {
   "cell_type": "code",
   "execution_count": 6,
   "id": "b6eaf164",
   "metadata": {
    "ExecuteTime": {
     "end_time": "2023-12-05T13:40:49.582219Z",
     "start_time": "2023-12-05T13:40:49.520259Z"
    }
   },
   "outputs": [
    {
     "name": "stdout",
     "output_type": "stream",
     "text": [
      "<class 'pandas.core.frame.DataFrame'>\n",
      "RangeIndex: 23463 entries, 0 to 23462\n",
      "Data columns (total 12 columns):\n",
      " #   Column              Non-Null Count  Dtype \n",
      "---  ------              --------------  ----- \n",
      " 0   Country             23036 non-null  object\n",
      " 1   City                23462 non-null  object\n",
      " 2   AQI Value           23463 non-null  int64 \n",
      " 3   AQI Category        23463 non-null  object\n",
      " 4   CO AQI Value        23463 non-null  int64 \n",
      " 5   CO AQI Category     23463 non-null  object\n",
      " 6   Ozone AQI Value     23463 non-null  int64 \n",
      " 7   Ozone AQI Category  23463 non-null  object\n",
      " 8   NO2 AQI Value       23463 non-null  int64 \n",
      " 9   NO2 AQI Category    23463 non-null  object\n",
      " 10  PM2.5 AQI Value     23463 non-null  int64 \n",
      " 11  PM2.5 AQI Category  23463 non-null  object\n",
      "dtypes: int64(5), object(7)\n",
      "memory usage: 2.1+ MB\n"
     ]
    }
   ],
   "source": [
    "df.info()"
   ]
  },
  {
   "cell_type": "code",
   "execution_count": 14,
   "id": "200009ef-49bd-46f4-a3ff-5b96ab3c82e2",
   "metadata": {},
   "outputs": [
    {
     "data": {
      "text/html": [
       "<div>\n",
       "<style scoped>\n",
       "    .dataframe tbody tr th:only-of-type {\n",
       "        vertical-align: middle;\n",
       "    }\n",
       "\n",
       "    .dataframe tbody tr th {\n",
       "        vertical-align: top;\n",
       "    }\n",
       "\n",
       "    .dataframe thead th {\n",
       "        text-align: right;\n",
       "    }\n",
       "</style>\n",
       "<table border=\"1\" class=\"dataframe\">\n",
       "  <thead>\n",
       "    <tr style=\"text-align: right;\">\n",
       "      <th></th>\n",
       "      <th>AQI Value</th>\n",
       "      <th>CO AQI Value</th>\n",
       "      <th>Ozone AQI Value</th>\n",
       "      <th>NO2 AQI Value</th>\n",
       "      <th>PM2.5 AQI Value</th>\n",
       "    </tr>\n",
       "  </thead>\n",
       "  <tbody>\n",
       "    <tr>\n",
       "      <th>AQI Value</th>\n",
       "      <td>1.00000</td>\n",
       "      <td>0.43060</td>\n",
       "      <td>0.40531</td>\n",
       "      <td>0.23176</td>\n",
       "      <td>0.98433</td>\n",
       "    </tr>\n",
       "    <tr>\n",
       "      <th>CO AQI Value</th>\n",
       "      <td>0.43060</td>\n",
       "      <td>1.00000</td>\n",
       "      <td>0.14572</td>\n",
       "      <td>0.48809</td>\n",
       "      <td>0.43856</td>\n",
       "    </tr>\n",
       "    <tr>\n",
       "      <th>Ozone AQI Value</th>\n",
       "      <td>0.40531</td>\n",
       "      <td>0.14572</td>\n",
       "      <td>1.00000</td>\n",
       "      <td>-0.18182</td>\n",
       "      <td>0.33989</td>\n",
       "    </tr>\n",
       "    <tr>\n",
       "      <th>NO2 AQI Value</th>\n",
       "      <td>0.23176</td>\n",
       "      <td>0.48809</td>\n",
       "      <td>-0.18182</td>\n",
       "      <td>1.00000</td>\n",
       "      <td>0.26013</td>\n",
       "    </tr>\n",
       "    <tr>\n",
       "      <th>PM2.5 AQI Value</th>\n",
       "      <td>0.98433</td>\n",
       "      <td>0.43856</td>\n",
       "      <td>0.33989</td>\n",
       "      <td>0.26013</td>\n",
       "      <td>1.00000</td>\n",
       "    </tr>\n",
       "  </tbody>\n",
       "</table>\n",
       "</div>"
      ],
      "text/plain": [
       "                 AQI Value  CO AQI Value  Ozone AQI Value  NO2 AQI Value  \\\n",
       "AQI Value          1.00000       0.43060          0.40531        0.23176   \n",
       "CO AQI Value       0.43060       1.00000          0.14572        0.48809   \n",
       "Ozone AQI Value    0.40531       0.14572          1.00000       -0.18182   \n",
       "NO2 AQI Value      0.23176       0.48809         -0.18182        1.00000   \n",
       "PM2.5 AQI Value    0.98433       0.43856          0.33989        0.26013   \n",
       "\n",
       "                 PM2.5 AQI Value  \n",
       "AQI Value                0.98433  \n",
       "CO AQI Value             0.43856  \n",
       "Ozone AQI Value          0.33989  \n",
       "NO2 AQI Value            0.26013  \n",
       "PM2.5 AQI Value          1.00000  "
      ]
     },
     "execution_count": 14,
     "metadata": {},
     "output_type": "execute_result"
    }
   ],
   "source": [
    "df[['AQI Value','CO AQI Value','Ozone AQI Value','NO2 AQI Value','PM2.5 AQI Value']].corr()"
   ]
  },
  {
   "cell_type": "code",
   "execution_count": 22,
   "id": "8c8e17b1",
   "metadata": {
    "ExecuteTime": {
     "end_time": "2023-12-05T14:04:56.559476Z",
     "start_time": "2023-12-05T14:04:56.540487Z"
    }
   },
   "outputs": [],
   "source": [
    "df.columns = [col.replace(' ', '_') for col in df.columns]"
   ]
  },
  {
   "cell_type": "code",
   "execution_count": 23,
   "id": "358aec6a",
   "metadata": {
    "ExecuteTime": {
     "end_time": "2023-12-05T14:05:03.585137Z",
     "start_time": "2023-12-05T14:05:03.557155Z"
    }
   },
   "outputs": [
    {
     "data": {
      "text/html": [
       "<div>\n",
       "<style scoped>\n",
       "    .dataframe tbody tr th:only-of-type {\n",
       "        vertical-align: middle;\n",
       "    }\n",
       "\n",
       "    .dataframe tbody tr th {\n",
       "        vertical-align: top;\n",
       "    }\n",
       "\n",
       "    .dataframe thead th {\n",
       "        text-align: right;\n",
       "    }\n",
       "</style>\n",
       "<table border=\"1\" class=\"dataframe\">\n",
       "  <thead>\n",
       "    <tr style=\"text-align: right;\">\n",
       "      <th></th>\n",
       "      <th>Country</th>\n",
       "      <th>City</th>\n",
       "      <th>AQI_Value</th>\n",
       "      <th>AQI_Category</th>\n",
       "      <th>CO_AQI_Value</th>\n",
       "      <th>CO_AQI_Category</th>\n",
       "      <th>Ozone_AQI_Value</th>\n",
       "      <th>Ozone_AQI_Category</th>\n",
       "      <th>NO2_AQI_Value</th>\n",
       "      <th>NO2_AQI_Category</th>\n",
       "      <th>PM2.5_AQI_Value</th>\n",
       "      <th>PM2.5_AQI_Category</th>\n",
       "    </tr>\n",
       "  </thead>\n",
       "  <tbody>\n",
       "    <tr>\n",
       "      <th>0</th>\n",
       "      <td>Russian Federation</td>\n",
       "      <td>Praskoveya</td>\n",
       "      <td>51</td>\n",
       "      <td>Moderate</td>\n",
       "      <td>1</td>\n",
       "      <td>Good</td>\n",
       "      <td>36</td>\n",
       "      <td>Good</td>\n",
       "      <td>0</td>\n",
       "      <td>Good</td>\n",
       "      <td>51</td>\n",
       "      <td>Moderate</td>\n",
       "    </tr>\n",
       "    <tr>\n",
       "      <th>1</th>\n",
       "      <td>Brazil</td>\n",
       "      <td>Presidente Dutra</td>\n",
       "      <td>41</td>\n",
       "      <td>Good</td>\n",
       "      <td>1</td>\n",
       "      <td>Good</td>\n",
       "      <td>5</td>\n",
       "      <td>Good</td>\n",
       "      <td>1</td>\n",
       "      <td>Good</td>\n",
       "      <td>41</td>\n",
       "      <td>Good</td>\n",
       "    </tr>\n",
       "    <tr>\n",
       "      <th>2</th>\n",
       "      <td>Italy</td>\n",
       "      <td>Priolo Gargallo</td>\n",
       "      <td>66</td>\n",
       "      <td>Moderate</td>\n",
       "      <td>1</td>\n",
       "      <td>Good</td>\n",
       "      <td>39</td>\n",
       "      <td>Good</td>\n",
       "      <td>2</td>\n",
       "      <td>Good</td>\n",
       "      <td>66</td>\n",
       "      <td>Moderate</td>\n",
       "    </tr>\n",
       "  </tbody>\n",
       "</table>\n",
       "</div>"
      ],
      "text/plain": [
       "              Country              City  AQI_Value AQI_Category  CO_AQI_Value  \\\n",
       "0  Russian Federation        Praskoveya         51     Moderate             1   \n",
       "1              Brazil  Presidente Dutra         41         Good             1   \n",
       "2               Italy   Priolo Gargallo         66     Moderate             1   \n",
       "\n",
       "  CO_AQI_Category  Ozone_AQI_Value Ozone_AQI_Category  NO2_AQI_Value  \\\n",
       "0            Good               36               Good              0   \n",
       "1            Good                5               Good              1   \n",
       "2            Good               39               Good              2   \n",
       "\n",
       "  NO2_AQI_Category  PM2.5_AQI_Value PM2.5_AQI_Category  \n",
       "0             Good               51           Moderate  \n",
       "1             Good               41               Good  \n",
       "2             Good               66           Moderate  "
      ]
     },
     "execution_count": 23,
     "metadata": {},
     "output_type": "execute_result"
    }
   ],
   "source": [
    "df.head(3)"
   ]
  },
  {
   "cell_type": "markdown",
   "id": "dd953a5a",
   "metadata": {},
   "source": [
    "### Ranges "
   ]
  },
  {
   "cell_type": "code",
   "execution_count": 24,
   "id": "d16f56b1",
   "metadata": {
    "ExecuteTime": {
     "end_time": "2023-12-05T14:05:07.130028Z",
     "start_time": "2023-12-05T14:05:07.116036Z"
    }
   },
   "outputs": [
    {
     "data": {
      "text/plain": [
       "Index(['Country', 'City', 'AQI_Value', 'AQI_Category', 'CO_AQI_Value',\n",
       "       'CO_AQI_Category', 'Ozone_AQI_Value', 'Ozone_AQI_Category',\n",
       "       'NO2_AQI_Value', 'NO2_AQI_Category', 'PM2.5_AQI_Value',\n",
       "       'PM2.5_AQI_Category'],\n",
       "      dtype='object')"
      ]
     },
     "execution_count": 24,
     "metadata": {},
     "output_type": "execute_result"
    }
   ],
   "source": [
    "df.columns"
   ]
  },
  {
   "cell_type": "code",
   "execution_count": 59,
   "id": "55d05bac",
   "metadata": {
    "ExecuteTime": {
     "end_time": "2023-12-05T14:49:58.845838Z",
     "start_time": "2023-12-05T14:49:58.829847Z"
    }
   },
   "outputs": [],
   "source": [
    "import pandas as pd\n",
    "\n",
    "def column_ranges_and_distribution(df):\n",
    "    column_ranges = {}\n",
    "\n",
    "    for col in df.columns:\n",
    "        if pd.api.types.is_numeric_dtype(df[col]):\n",
    "            # Find min and max values\n",
    "            min_value = df[col].min()\n",
    "            max_value = df[col].max()\n",
    "            # Add range as a list [min, max] to the dictionary\n",
    "            column_ranges[col] = [min_value, max_value]\n",
    "\n",
    "            # Display distribution using .describe() and format with 2 decimal places\n",
    "            print(\"\\n\")\n",
    "            print(f\"{col}\")\n",
    "            print(\"\\n\")\n",
    "            print(df[col].describe().apply(lambda x: format(x, '.2f')))\n",
    "            print(\"\\n\")\n",
    "            print(\"---------------------------------\")\n",
    "\n",
    "    return column_ranges\n",
    "\n",
    "# Example usage\n",
    "# ranges = column_ranges_and_distribution(your_dataframe)\n",
    "# print(\"Ranges for numeric columns:\")\n",
    "# print(ranges)\n"
   ]
  },
  {
   "cell_type": "code",
   "execution_count": 60,
   "id": "e5101a5e",
   "metadata": {
    "ExecuteTime": {
     "end_time": "2023-12-05T14:49:59.183625Z",
     "start_time": "2023-12-05T14:49:59.143650Z"
    }
   },
   "outputs": [
    {
     "name": "stdout",
     "output_type": "stream",
     "text": [
      "\n",
      "\n",
      "AQI_Value\n",
      "\n",
      "\n",
      "count    23463.00\n",
      "mean        72.01\n",
      "std         56.06\n",
      "min          6.00\n",
      "25%         39.00\n",
      "50%         55.00\n",
      "75%         79.00\n",
      "max        500.00\n",
      "Name: AQI_Value, dtype: object\n",
      "\n",
      "\n",
      "---------------------------------\n",
      "\n",
      "\n",
      "CO_AQI_Value\n",
      "\n",
      "\n",
      "count    23463.00\n",
      "mean         1.37\n",
      "std          1.83\n",
      "min          0.00\n",
      "25%          1.00\n",
      "50%          1.00\n",
      "75%          1.00\n",
      "max        133.00\n",
      "Name: CO_AQI_Value, dtype: object\n",
      "\n",
      "\n",
      "---------------------------------\n",
      "\n",
      "\n",
      "Ozone_AQI_Value\n",
      "\n",
      "\n",
      "count    23463.00\n",
      "mean        35.19\n",
      "std         28.10\n",
      "min          0.00\n",
      "25%         21.00\n",
      "50%         31.00\n",
      "75%         40.00\n",
      "max        235.00\n",
      "Name: Ozone_AQI_Value, dtype: object\n",
      "\n",
      "\n",
      "---------------------------------\n",
      "\n",
      "\n",
      "NO2_AQI_Value\n",
      "\n",
      "\n",
      "count    23463.00\n",
      "mean         3.06\n",
      "std          5.25\n",
      "min          0.00\n",
      "25%          0.00\n",
      "50%          1.00\n",
      "75%          4.00\n",
      "max         91.00\n",
      "Name: NO2_AQI_Value, dtype: object\n",
      "\n",
      "\n",
      "---------------------------------\n",
      "\n",
      "\n",
      "PM2.5_AQI_Value\n",
      "\n",
      "\n",
      "count    23463.00\n",
      "mean        68.52\n",
      "std         54.80\n",
      "min          0.00\n",
      "25%         35.00\n",
      "50%         54.00\n",
      "75%         79.00\n",
      "max        500.00\n",
      "Name: PM2.5_AQI_Value, dtype: object\n",
      "\n",
      "\n",
      "---------------------------------\n"
     ]
    },
    {
     "data": {
      "text/plain": [
       "{'AQI_Value': [6, 500],\n",
       " 'CO_AQI_Value': [0, 133],\n",
       " 'Ozone_AQI_Value': [0, 235],\n",
       " 'NO2_AQI_Value': [0, 91],\n",
       " 'PM2.5_AQI_Value': [0, 500]}"
      ]
     },
     "execution_count": 60,
     "metadata": {},
     "output_type": "execute_result"
    }
   ],
   "source": [
    "column_ranges_and_distribution(df)"
   ]
  },
  {
   "cell_type": "code",
   "execution_count": 38,
   "id": "4234c6ae",
   "metadata": {
    "ExecuteTime": {
     "end_time": "2023-12-05T14:24:34.650583Z",
     "start_time": "2023-12-05T14:24:34.635593Z"
    }
   },
   "outputs": [
    {
     "data": {
      "text/plain": [
       "9        142\n",
       "12       158\n",
       "13       158\n",
       "16       154\n",
       "19       161\n",
       "        ... \n",
       "23439    131\n",
       "23449    101\n",
       "23452    124\n",
       "23455    160\n",
       "23458    184\n",
       "Name: AQI_Value, Length: 4244, dtype: int64"
      ]
     },
     "execution_count": 38,
     "metadata": {},
     "output_type": "execute_result"
    }
   ],
   "source": [
    "df[df['AQI_Value']>100]['AQI_Value']"
   ]
  },
  {
   "cell_type": "markdown",
   "id": "560d97be",
   "metadata": {},
   "source": [
    "### Uniques"
   ]
  },
  {
   "cell_type": "code",
   "execution_count": 9,
   "id": "8c106d6a",
   "metadata": {
    "ExecuteTime": {
     "end_time": "2023-12-05T13:52:53.824921Z",
     "start_time": "2023-12-05T13:52:53.802933Z"
    }
   },
   "outputs": [
    {
     "data": {
      "text/plain": [
       "175"
      ]
     },
     "execution_count": 9,
     "metadata": {},
     "output_type": "execute_result"
    }
   ],
   "source": [
    "df['Country'].nunique()"
   ]
  },
  {
   "cell_type": "code",
   "execution_count": 10,
   "id": "f21eacce",
   "metadata": {
    "ExecuteTime": {
     "end_time": "2023-12-05T13:53:13.030142Z",
     "start_time": "2023-12-05T13:53:13.006157Z"
    }
   },
   "outputs": [
    {
     "data": {
      "text/plain": [
       "23462"
      ]
     },
     "execution_count": 10,
     "metadata": {},
     "output_type": "execute_result"
    }
   ],
   "source": [
    "df['City'].nunique()"
   ]
  },
  {
   "cell_type": "markdown",
   "id": "bfdc8b88",
   "metadata": {},
   "source": [
    "### NaNs"
   ]
  },
  {
   "cell_type": "code",
   "execution_count": 15,
   "id": "87459b81",
   "metadata": {
    "ExecuteTime": {
     "end_time": "2023-12-05T13:56:03.834862Z",
     "start_time": "2023-12-05T13:56:03.816873Z"
    }
   },
   "outputs": [
    {
     "data": {
      "text/html": [
       "<div>\n",
       "<style scoped>\n",
       "    .dataframe tbody tr th:only-of-type {\n",
       "        vertical-align: middle;\n",
       "    }\n",
       "\n",
       "    .dataframe tbody tr th {\n",
       "        vertical-align: top;\n",
       "    }\n",
       "\n",
       "    .dataframe thead th {\n",
       "        text-align: right;\n",
       "    }\n",
       "</style>\n",
       "<table border=\"1\" class=\"dataframe\">\n",
       "  <thead>\n",
       "    <tr style=\"text-align: right;\">\n",
       "      <th></th>\n",
       "      <th>Country</th>\n",
       "      <th>City</th>\n",
       "      <th>AQI Value</th>\n",
       "      <th>AQI Category</th>\n",
       "      <th>CO AQI Value</th>\n",
       "      <th>CO AQI Category</th>\n",
       "      <th>Ozone AQI Value</th>\n",
       "      <th>Ozone AQI Category</th>\n",
       "      <th>NO2 AQI Value</th>\n",
       "      <th>NO2 AQI Category</th>\n",
       "      <th>PM2.5 AQI Value</th>\n",
       "      <th>PM2.5 AQI Category</th>\n",
       "    </tr>\n",
       "  </thead>\n",
       "  <tbody>\n",
       "    <tr>\n",
       "      <th>2641</th>\n",
       "      <td>Israel</td>\n",
       "      <td>NaN</td>\n",
       "      <td>68</td>\n",
       "      <td>Moderate</td>\n",
       "      <td>1</td>\n",
       "      <td>Good</td>\n",
       "      <td>48</td>\n",
       "      <td>Good</td>\n",
       "      <td>4</td>\n",
       "      <td>Good</td>\n",
       "      <td>68</td>\n",
       "      <td>Moderate</td>\n",
       "    </tr>\n",
       "  </tbody>\n",
       "</table>\n",
       "</div>"
      ],
      "text/plain": [
       "     Country City  AQI Value AQI Category  CO AQI Value CO AQI Category  \\\n",
       "2641  Israel  NaN         68     Moderate             1            Good   \n",
       "\n",
       "      Ozone AQI Value Ozone AQI Category  NO2 AQI Value NO2 AQI Category  \\\n",
       "2641               48               Good              4             Good   \n",
       "\n",
       "      PM2.5 AQI Value PM2.5 AQI Category  \n",
       "2641               68           Moderate  "
      ]
     },
     "execution_count": 15,
     "metadata": {},
     "output_type": "execute_result"
    }
   ],
   "source": [
    "df[df['City'].isna()]"
   ]
  },
  {
   "cell_type": "code",
   "execution_count": 16,
   "id": "d15ced9f",
   "metadata": {
    "ExecuteTime": {
     "end_time": "2023-12-05T13:56:12.030273Z",
     "start_time": "2023-12-05T13:56:11.991298Z"
    }
   },
   "outputs": [
    {
     "data": {
      "text/html": [
       "<div>\n",
       "<style scoped>\n",
       "    .dataframe tbody tr th:only-of-type {\n",
       "        vertical-align: middle;\n",
       "    }\n",
       "\n",
       "    .dataframe tbody tr th {\n",
       "        vertical-align: top;\n",
       "    }\n",
       "\n",
       "    .dataframe thead th {\n",
       "        text-align: right;\n",
       "    }\n",
       "</style>\n",
       "<table border=\"1\" class=\"dataframe\">\n",
       "  <thead>\n",
       "    <tr style=\"text-align: right;\">\n",
       "      <th></th>\n",
       "      <th>Country</th>\n",
       "      <th>City</th>\n",
       "      <th>AQI Value</th>\n",
       "      <th>AQI Category</th>\n",
       "      <th>CO AQI Value</th>\n",
       "      <th>CO AQI Category</th>\n",
       "      <th>Ozone AQI Value</th>\n",
       "      <th>Ozone AQI Category</th>\n",
       "      <th>NO2 AQI Value</th>\n",
       "      <th>NO2 AQI Category</th>\n",
       "      <th>PM2.5 AQI Value</th>\n",
       "      <th>PM2.5 AQI Category</th>\n",
       "    </tr>\n",
       "  </thead>\n",
       "  <tbody>\n",
       "    <tr>\n",
       "      <th>535</th>\n",
       "      <td>NaN</td>\n",
       "      <td>Granville</td>\n",
       "      <td>30</td>\n",
       "      <td>Good</td>\n",
       "      <td>1</td>\n",
       "      <td>Good</td>\n",
       "      <td>30</td>\n",
       "      <td>Good</td>\n",
       "      <td>3</td>\n",
       "      <td>Good</td>\n",
       "      <td>25</td>\n",
       "      <td>Good</td>\n",
       "    </tr>\n",
       "    <tr>\n",
       "      <th>654</th>\n",
       "      <td>NaN</td>\n",
       "      <td>Kingston Upon Hull</td>\n",
       "      <td>33</td>\n",
       "      <td>Good</td>\n",
       "      <td>1</td>\n",
       "      <td>Good</td>\n",
       "      <td>17</td>\n",
       "      <td>Good</td>\n",
       "      <td>8</td>\n",
       "      <td>Good</td>\n",
       "      <td>33</td>\n",
       "      <td>Good</td>\n",
       "    </tr>\n",
       "    <tr>\n",
       "      <th>787</th>\n",
       "      <td>NaN</td>\n",
       "      <td>New Waterford</td>\n",
       "      <td>20</td>\n",
       "      <td>Good</td>\n",
       "      <td>1</td>\n",
       "      <td>Good</td>\n",
       "      <td>18</td>\n",
       "      <td>Good</td>\n",
       "      <td>9</td>\n",
       "      <td>Good</td>\n",
       "      <td>20</td>\n",
       "      <td>Good</td>\n",
       "    </tr>\n",
       "    <tr>\n",
       "      <th>801</th>\n",
       "      <td>NaN</td>\n",
       "      <td>Kingstown</td>\n",
       "      <td>163</td>\n",
       "      <td>Unhealthy</td>\n",
       "      <td>0</td>\n",
       "      <td>Good</td>\n",
       "      <td>25</td>\n",
       "      <td>Good</td>\n",
       "      <td>0</td>\n",
       "      <td>Good</td>\n",
       "      <td>163</td>\n",
       "      <td>Unhealthy</td>\n",
       "    </tr>\n",
       "    <tr>\n",
       "      <th>906</th>\n",
       "      <td>NaN</td>\n",
       "      <td>Nanakuli</td>\n",
       "      <td>30</td>\n",
       "      <td>Good</td>\n",
       "      <td>0</td>\n",
       "      <td>Good</td>\n",
       "      <td>27</td>\n",
       "      <td>Good</td>\n",
       "      <td>0</td>\n",
       "      <td>Good</td>\n",
       "      <td>30</td>\n",
       "      <td>Good</td>\n",
       "    </tr>\n",
       "    <tr>\n",
       "      <th>...</th>\n",
       "      <td>...</td>\n",
       "      <td>...</td>\n",
       "      <td>...</td>\n",
       "      <td>...</td>\n",
       "      <td>...</td>\n",
       "      <td>...</td>\n",
       "      <td>...</td>\n",
       "      <td>...</td>\n",
       "      <td>...</td>\n",
       "      <td>...</td>\n",
       "      <td>...</td>\n",
       "      <td>...</td>\n",
       "    </tr>\n",
       "    <tr>\n",
       "      <th>22979</th>\n",
       "      <td>NaN</td>\n",
       "      <td>Kyaikkami</td>\n",
       "      <td>54</td>\n",
       "      <td>Moderate</td>\n",
       "      <td>0</td>\n",
       "      <td>Good</td>\n",
       "      <td>20</td>\n",
       "      <td>Good</td>\n",
       "      <td>0</td>\n",
       "      <td>Good</td>\n",
       "      <td>54</td>\n",
       "      <td>Moderate</td>\n",
       "    </tr>\n",
       "    <tr>\n",
       "      <th>23115</th>\n",
       "      <td>NaN</td>\n",
       "      <td>Bima</td>\n",
       "      <td>25</td>\n",
       "      <td>Good</td>\n",
       "      <td>1</td>\n",
       "      <td>Good</td>\n",
       "      <td>25</td>\n",
       "      <td>Good</td>\n",
       "      <td>0</td>\n",
       "      <td>Good</td>\n",
       "      <td>24</td>\n",
       "      <td>Good</td>\n",
       "    </tr>\n",
       "    <tr>\n",
       "      <th>23311</th>\n",
       "      <td>NaN</td>\n",
       "      <td>Marapanim</td>\n",
       "      <td>25</td>\n",
       "      <td>Good</td>\n",
       "      <td>1</td>\n",
       "      <td>Good</td>\n",
       "      <td>15</td>\n",
       "      <td>Good</td>\n",
       "      <td>0</td>\n",
       "      <td>Good</td>\n",
       "      <td>25</td>\n",
       "      <td>Good</td>\n",
       "    </tr>\n",
       "    <tr>\n",
       "      <th>23345</th>\n",
       "      <td>NaN</td>\n",
       "      <td>Calbuco</td>\n",
       "      <td>36</td>\n",
       "      <td>Good</td>\n",
       "      <td>1</td>\n",
       "      <td>Good</td>\n",
       "      <td>15</td>\n",
       "      <td>Good</td>\n",
       "      <td>3</td>\n",
       "      <td>Good</td>\n",
       "      <td>36</td>\n",
       "      <td>Good</td>\n",
       "    </tr>\n",
       "    <tr>\n",
       "      <th>23420</th>\n",
       "      <td>NaN</td>\n",
       "      <td>Sungairaya</td>\n",
       "      <td>49</td>\n",
       "      <td>Good</td>\n",
       "      <td>1</td>\n",
       "      <td>Good</td>\n",
       "      <td>12</td>\n",
       "      <td>Good</td>\n",
       "      <td>0</td>\n",
       "      <td>Good</td>\n",
       "      <td>49</td>\n",
       "      <td>Good</td>\n",
       "    </tr>\n",
       "  </tbody>\n",
       "</table>\n",
       "<p>427 rows × 12 columns</p>\n",
       "</div>"
      ],
      "text/plain": [
       "      Country                City  AQI Value AQI Category  CO AQI Value  \\\n",
       "535       NaN           Granville         30         Good             1   \n",
       "654       NaN  Kingston Upon Hull         33         Good             1   \n",
       "787       NaN       New Waterford         20         Good             1   \n",
       "801       NaN           Kingstown        163    Unhealthy             0   \n",
       "906       NaN            Nanakuli         30         Good             0   \n",
       "...       ...                 ...        ...          ...           ...   \n",
       "22979     NaN           Kyaikkami         54     Moderate             0   \n",
       "23115     NaN                Bima         25         Good             1   \n",
       "23311     NaN           Marapanim         25         Good             1   \n",
       "23345     NaN             Calbuco         36         Good             1   \n",
       "23420     NaN          Sungairaya         49         Good             1   \n",
       "\n",
       "      CO AQI Category  Ozone AQI Value Ozone AQI Category  NO2 AQI Value  \\\n",
       "535              Good               30               Good              3   \n",
       "654              Good               17               Good              8   \n",
       "787              Good               18               Good              9   \n",
       "801              Good               25               Good              0   \n",
       "906              Good               27               Good              0   \n",
       "...               ...              ...                ...            ...   \n",
       "22979            Good               20               Good              0   \n",
       "23115            Good               25               Good              0   \n",
       "23311            Good               15               Good              0   \n",
       "23345            Good               15               Good              3   \n",
       "23420            Good               12               Good              0   \n",
       "\n",
       "      NO2 AQI Category  PM2.5 AQI Value PM2.5 AQI Category  \n",
       "535               Good               25               Good  \n",
       "654               Good               33               Good  \n",
       "787               Good               20               Good  \n",
       "801               Good              163          Unhealthy  \n",
       "906               Good               30               Good  \n",
       "...                ...              ...                ...  \n",
       "22979             Good               54           Moderate  \n",
       "23115             Good               24               Good  \n",
       "23311             Good               25               Good  \n",
       "23345             Good               36               Good  \n",
       "23420             Good               49               Good  \n",
       "\n",
       "[427 rows x 12 columns]"
      ]
     },
     "execution_count": 16,
     "metadata": {},
     "output_type": "execute_result"
    }
   ],
   "source": [
    "df[df['Country'].isna()]"
   ]
  },
  {
   "cell_type": "code",
   "execution_count": null,
   "id": "bc500712",
   "metadata": {},
   "outputs": [],
   "source": []
  }
 ],
 "metadata": {
  "kernelspec": {
   "display_name": "Python 3 (ipykernel)",
   "language": "python",
   "name": "python3"
  },
  "language_info": {
   "codemirror_mode": {
    "name": "ipython",
    "version": 3
   },
   "file_extension": ".py",
   "mimetype": "text/x-python",
   "name": "python",
   "nbconvert_exporter": "python",
   "pygments_lexer": "ipython3",
   "version": "3.9.18"
  },
  "toc": {
   "base_numbering": 1,
   "nav_menu": {},
   "number_sections": true,
   "sideBar": true,
   "skip_h1_title": false,
   "title_cell": "Table of Contents",
   "title_sidebar": "Contents",
   "toc_cell": false,
   "toc_position": {},
   "toc_section_display": true,
   "toc_window_display": false
  }
 },
 "nbformat": 4,
 "nbformat_minor": 5
}
