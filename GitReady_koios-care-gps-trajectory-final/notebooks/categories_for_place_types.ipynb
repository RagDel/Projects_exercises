{
 "cells": [
  {
   "cell_type": "code",
   "execution_count": 1,
   "id": "fc52d8db-338a-4251-a6d3-0e8e4de13872",
   "metadata": {},
   "outputs": [],
   "source": [
    "import pandas as pd"
   ]
  },
  {
   "cell_type": "code",
   "execution_count": 2,
   "id": "b3bbd0a2-0eb7-4312-8538-f44d494c964a",
   "metadata": {},
   "outputs": [],
   "source": [
    "all_place_types = pd.read_csv(f'../data/interim/Place Types.txt', header=None, names=['Place_Type'])"
   ]
  },
  {
   "cell_type": "code",
   "execution_count": 3,
   "id": "cea6364d-fa70-4824-8317-44bdf374ce2d",
   "metadata": {},
   "outputs": [],
   "source": [
    "categories_dict = {\n",
    "    \"Transportation and Travel\": [\"Airport\", \"Bus Station\", \"Car Rental\", \"Car Dealer\", \n",
    "                                  \"Car Repair\", \"Car Wash\", \"Gas Station\", \"Light Rail Station\", \n",
    "                                  \"Subway Station\", \"Taxi Stand\", \"Train Station\", \"Transit Station\", \n",
    "                                  \"Travel Agency\",'parking'],\n",
    "    \"Retail and Shopping\": [\"Art Gallery\", \"Bakery\", \"Bicycle Store\", \"Book Store\", \n",
    "                            \"Clothing Store\", \"Convenience Store\", \"Department Store\", \"Electronics Store\", \n",
    "                            \"Florist\", \"Furniture Store\", \"Grocery Store\", \"Hardware Store\",\n",
    "                            \"Home Goods Store\", \"Jewelry Store\", \"Liquor Store\", \"Pet Store\", \n",
    "                            \"Pharmacy\", \"Shoe Store\", \"Shopping Mall\", \"Store\", \"Supermarket\",'storage'],\n",
    "    \"Entertainment and Food\": [\"Amusement Park\", \"Aquarium\", \"Bowling Alley\", \"Casino\", \n",
    "                                  \"Movie Theater\", \"Museum\", \"Night Club\", \"Park\", \"Stadium\", \n",
    "                                  \"Tourist Attraction\", \"Zoo\",'movie_rental',\"Bar\", \"Cafe\", \"Meal Delivery\", \"Meal Takeaway\", \"Restaurant\",\n",
    "                                  \"Campground\", \"Lodging\", \"RV Park\"],\n",
    "    \"Health and Wellness\": [\"Doctor\", \"Dentist\", \"Hospital\", \"Physiotherapist\", \n",
    "                            \"Veterinary Care\",'drugstore','hair_care'],\n",
    "    \"Athletics\": [\"Gym\",\"Spa\"],\n",
    "    \"Professional and Public Services\": [\"Accounting\", \"Bank\", \"Beauty Salon\", \"Car Dealer\", \n",
    "                                         \"City Hall\", \"Courthouse\", \"Electrician\", \"Embassy\",\n",
    "                                         \"Fire Station\", \"Insurance Agency\", \"Laundry\", \"Lawyer\", \n",
    "                                         \"Library\", \"Locksmith\", \"Painter\", \"Plumber\", \"Police\", \n",
    "                                         \"Post Office\", \"Real Estate Agency\", \"Roofing Contractor\", \n",
    "                                         \"School\", \"University\",'atm','local_government_office','primary_school','secondary_school',\n",
    "                                         \"Church\", \"Hindu Temple\", \"Mosque\", \"Synagogue\"]\n",
    "}"
   ]
  },
  {
   "cell_type": "code",
   "execution_count": 4,
   "id": "f3d2cf71-a9fb-4ca5-8cac-5b38ded2ec66",
   "metadata": {},
   "outputs": [],
   "source": [
    "# Transforming the categories_dict\n",
    "transformed_categories_dict = {}\n",
    "for category, places in categories_dict.items():\n",
    "    transformed_categories_dict[category] = [place.lower().replace(' ', '_') for place in places]"
   ]
  },
  {
   "cell_type": "code",
   "execution_count": 5,
   "id": "3fedb140-6578-41dd-b917-c10e7cc3cb55",
   "metadata": {},
   "outputs": [],
   "source": [
    "# Invert the categories dictionary to map place type to category\n",
    "place_type_to_category = {place_type.lower(): category \n",
    "                          for category, place_types in transformed_categories_dict.items() \n",
    "                          for place_type in place_types}\n",
    "\n",
    "# Function to map place type to category\n",
    "def map_category(place_type):\n",
    "    # Using .lower() to ensure case-insensitive matching\n",
    "    return place_type_to_category.get(place_type.lower(), 'Other')\n",
    "\n",
    "# Apply the function to create a new column\n",
    "all_place_types['Category'] = all_place_types['Place_Type'].apply(map_category)"
   ]
  },
  {
   "cell_type": "code",
   "execution_count": 6,
   "id": "811a419d-4a74-4e9a-9046-c621335f4c0d",
   "metadata": {},
   "outputs": [
    {
     "data": {
      "text/html": [
       "<div>\n",
       "<style scoped>\n",
       "    .dataframe tbody tr th:only-of-type {\n",
       "        vertical-align: middle;\n",
       "    }\n",
       "\n",
       "    .dataframe tbody tr th {\n",
       "        vertical-align: top;\n",
       "    }\n",
       "\n",
       "    .dataframe thead th {\n",
       "        text-align: right;\n",
       "    }\n",
       "</style>\n",
       "<table border=\"1\" class=\"dataframe\">\n",
       "  <thead>\n",
       "    <tr style=\"text-align: right;\">\n",
       "      <th></th>\n",
       "      <th>Place_Type</th>\n",
       "      <th>Category</th>\n",
       "    </tr>\n",
       "  </thead>\n",
       "  <tbody>\n",
       "    <tr>\n",
       "      <th>0</th>\n",
       "      <td>accounting</td>\n",
       "      <td>Professional and Public Services</td>\n",
       "    </tr>\n",
       "    <tr>\n",
       "      <th>1</th>\n",
       "      <td>airport</td>\n",
       "      <td>Transportation and Travel</td>\n",
       "    </tr>\n",
       "    <tr>\n",
       "      <th>2</th>\n",
       "      <td>amusement_park</td>\n",
       "      <td>Entertainment and Food</td>\n",
       "    </tr>\n",
       "    <tr>\n",
       "      <th>3</th>\n",
       "      <td>aquarium</td>\n",
       "      <td>Entertainment and Food</td>\n",
       "    </tr>\n",
       "    <tr>\n",
       "      <th>4</th>\n",
       "      <td>art_gallery</td>\n",
       "      <td>Retail and Shopping</td>\n",
       "    </tr>\n",
       "    <tr>\n",
       "      <th>...</th>\n",
       "      <td>...</td>\n",
       "      <td>...</td>\n",
       "    </tr>\n",
       "    <tr>\n",
       "      <th>91</th>\n",
       "      <td>transit_station</td>\n",
       "      <td>Transportation and Travel</td>\n",
       "    </tr>\n",
       "    <tr>\n",
       "      <th>92</th>\n",
       "      <td>travel_agency</td>\n",
       "      <td>Transportation and Travel</td>\n",
       "    </tr>\n",
       "    <tr>\n",
       "      <th>93</th>\n",
       "      <td>university</td>\n",
       "      <td>Professional and Public Services</td>\n",
       "    </tr>\n",
       "    <tr>\n",
       "      <th>94</th>\n",
       "      <td>veterinary_care</td>\n",
       "      <td>Health and Wellness</td>\n",
       "    </tr>\n",
       "    <tr>\n",
       "      <th>95</th>\n",
       "      <td>zoo</td>\n",
       "      <td>Entertainment and Food</td>\n",
       "    </tr>\n",
       "  </tbody>\n",
       "</table>\n",
       "<p>96 rows × 2 columns</p>\n",
       "</div>"
      ],
      "text/plain": [
       "         Place_Type                          Category\n",
       "0        accounting  Professional and Public Services\n",
       "1           airport         Transportation and Travel\n",
       "2    amusement_park            Entertainment and Food\n",
       "3          aquarium            Entertainment and Food\n",
       "4       art_gallery               Retail and Shopping\n",
       "..              ...                               ...\n",
       "91  transit_station         Transportation and Travel\n",
       "92    travel_agency         Transportation and Travel\n",
       "93       university  Professional and Public Services\n",
       "94  veterinary_care               Health and Wellness\n",
       "95              zoo            Entertainment and Food\n",
       "\n",
       "[96 rows x 2 columns]"
      ]
     },
     "execution_count": 6,
     "metadata": {},
     "output_type": "execute_result"
    }
   ],
   "source": [
    "all_place_types"
   ]
  },
  {
   "cell_type": "code",
   "execution_count": 7,
   "id": "c242c500-d63f-406a-8466-5673599cf7d5",
   "metadata": {},
   "outputs": [],
   "source": [
    "all_place_types.to_pickle(\"../data/processed/place_types_df.pkl\")"
   ]
  }
 ],
 "metadata": {
  "kernelspec": {
   "display_name": "Python 3 (ipykernel)",
   "language": "python",
   "name": "python3"
  },
  "language_info": {
   "codemirror_mode": {
    "name": "ipython",
    "version": 3
   },
   "file_extension": ".py",
   "mimetype": "text/x-python",
   "name": "python",
   "nbconvert_exporter": "python",
   "pygments_lexer": "ipython3",
   "version": "3.9.18"
  }
 },
 "nbformat": 4,
 "nbformat_minor": 5
}
